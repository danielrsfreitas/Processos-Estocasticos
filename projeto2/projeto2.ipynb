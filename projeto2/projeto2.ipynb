{
 "cells": [
  {
   "cell_type": "code",
   "execution_count": 2,
   "metadata": {
    "collapsed": true
   },
   "outputs": [],
   "source": [
    "import numpy as np\n",
    "import matplotlib.pyplot as plt\n",
    "\n",
    "% matplotlib inline"
   ]
  },
  {
   "cell_type": "markdown",
   "metadata": {},
   "source": [
    "Considere um canal de comunicações cuja entrada é um sinal $x[k]$ e cuja saída é um sinal $r[k] = x[k-\\delta] + n[k]$. Ou seja, a saída é uma versão ruidosa e atrasada da entrada. Seu objetivo aqui é determinar o valor do atraso $\\delta$.\n",
    "\n",
    "Para isso, vamos fazer algumas hipóteses. O sinal transmitido será composto de 10 valores consecutivos iguas a 1, sendo o restante igual a zero."
   ]
  },
  {
   "cell_type": "code",
   "execution_count": 3,
   "metadata": {},
   "outputs": [
    {
     "data": {
      "image/png": "[encoded data removed]",
      "text/plain": [
       "<matplotlib.figure.Figure at 0x10d472748>"
      ]
     },
     "metadata": {},
     "output_type": "display_data"
    }
   ],
   "source": [
    "x = np.ones(10)\n",
    "plt.stem(x)\n",
    "plt.show()"
   ]
  },
  {
   "cell_type": "markdown",
   "metadata": {},
   "source": [
    "A segunda hipótese é que o atraso é aleatório, sendo modelado como uma variável aleatória uniformemente distribuída entre 0 e 100 amostras."
   ]
  },
  {
   "cell_type": "code",
   "execution_count": 7,
   "metadata": {},
   "outputs": [
    {
     "name": "stdout",
     "output_type": "stream",
     "text": [
      "28\n"
     ]
    }
   ],
   "source": [
    "d = np.random.randint(0, 100 + 1)\n",
    "print(d)"
   ]
  },
  {
   "cell_type": "markdown",
   "metadata": {},
   "source": [
    "Finalmente, vamos assumir que o ruído é normal, com média zero e variância $\\sigma^2$, independente e identicamente distruído.\n",
    "\n",
    "Observe que, como o atraso varia de 1 a cem amostras, é necessário observar uma janela 111 amostras do sinal recebido para termos certeza de que o sinal x foi observado dentro da janela."
   ]
  },
  {
   "cell_type": "code",
   "execution_count": 8,
   "metadata": {},
   "outputs": [
    {
     "data": {
      "image/png": "[encoded data removed]",
      "text/plain": [
       "<matplotlib.figure.Figure at 0x10e830d68>"
      ]
     },
     "metadata": {},
     "output_type": "display_data"
    }
   ],
   "source": [
    "sigma = .5\n",
    "r = sigma*np.random.randn(111)\n",
    "r[d:(d+10)] += x\n",
    "plt.stem(r)\n",
    "plt.show()"
   ]
  },
  {
   "cell_type": "markdown",
   "metadata": {},
   "source": [
    "Para determinar o atraso, você vai usar uma estratégia chamada máximo a posteriori: o valor de $\\delta$ é aquele que é o mais provável no mundo em que o sinal $r[k]$ é observado. Para facilitar nossa notação, seja $\\mathbf{r}$ um vetor contendo todas as 111 amostras de $r[k]$. Assim, o valor de $\\delta$ será dado por \n",
    "\n",
    "$$\\delta_{\\mathrm{ótimo}} = \\arg\\max_{\\delta} p_{\\Delta|\\mathbf{R}}(\\delta|\\mathbf{r})$$\n",
    "\n",
    "Determine e implemente este detector. Busque fazer o maior número possível de simplificações. Você verá que existem diversas probabilidades e diversas funções que não precisam ser calculadas.\n",
    "\n",
    "Imagine agora que o valor de $\\delta$ seja 10. Calcule analiticamente e por simulação a probabilidade de seu detector ''preferir'' o valor de $\\delta = 11$ ao invés do valor correto. Ou seja, calcule a probabilidade de $p_{\\Delta|\\mathbf{R}}(11|\\mathbf{R}) > p_{\\Delta|\\mathbf{R}}(10|\\mathbf{R})$."
   ]
  },
  {
   "cell_type": "markdown",
   "metadata": {},
   "source": [
    "Projeto 2 - Solução Daniel Freitas\n",
    "\n",
    "Parte 1\n",
    "\n",
    "$$\\delta_{\\mathrm{ótimo}} = \\arg\\max_{\\delta} p_{\\Delta|\\mathbf{R}}(\\delta|\\mathbf{r})$$\n",
    "\n",
    "$$ = \\frac{f_{\\Delta,\\mathbf{R}}(\\delta,r)}{f_(r)}$$\n",
    "\n",
    "$$ = \\frac{f_{\\mathbf{R}|\\Delta}(r|\\delta) p_{\\Delta}(\\delta)}{f_{R}(r)}$$\n",
    "\n",
    "Nesse caso, $p_{\\Delta}(\\delta)$ é constante, e equivale a $\\frac{1}{101}$ e ${f_{R}(r)}$ é constante para um dada observação de $r$.\n",
    "\n",
    "\n",
    "Sendo assim, para calcular qual o delta que maximiza a probabilidade $p_{\\Delta|\\mathbf{R}}(\\delta|\\mathbf{r})$ precisa-se olhar apenas para o termo referente ao $f_{\\mathbf{R}|\\Delta}(r|\\delta)$.\n",
    "\n",
    "Esse termo é calculado da seguinte maneira:\n",
    "\n",
    "$$f_{\\mathbf{R}|\\Delta}(r|\\delta) = \\prod_{i=\\delta}^{\\delta+9} \\frac{e^\\frac{-1}{2}(\\frac{r_i - 1}{\\sigma})^2}{\\sqrt{2\\sigma^2pi}} \\prod_{i \\notin [\\delta,\\delta+9], i=0}^{110} \\frac{e^\\frac{-1}{2}(\\frac{r_i}{\\sigma})^2}{\\sqrt{2\\sigma^2pi}}$$\n",
    "\n",
    "Assim, para se obter o $\\delta$ ótimo, deve-se minimizar o argumento do expoente, pois isso maximiza a expressão acima.\n",
    "\n",
    "$$ \\delta_{ótimo} = \\arg\\min_{\\delta} \\sum_{i \\notin [\\delta,\\delta+9], i=0}^{i=110}{r_i}^2 + \\sum_{i=\\delta}^{\\delta+9}({r_i - 1})^2$$"
   ]
  },
  {
   "cell_type": "code",
   "execution_count": 16,
   "metadata": {},
   "outputs": [
    {
     "name": "stdout",
     "output_type": "stream",
     "text": [
      "Estimated delta: 66   Right delta: 66\n"
     ]
    }
   ],
   "source": [
    "\n",
    "sigma = .5\n",
    "r = sigma*np.random.randn(111)\n",
    "r[d:(d+10)] += x\n",
    "\n",
    "deltas = []\n",
    "aux = 1\n",
    "for delta in range(0,100):\n",
    "    for i in range(len(r)):\n",
    "        if (i in range(delta,(delta + 10))):\n",
    "            aux += (r[i] - 1)**2\n",
    "        else:\n",
    "            aux += r[i]**2\n",
    "    deltas.append(aux)\n",
    "    aux = 1\n",
    "print(\"Estimated delta:\",np.argmin(deltas),\"  Right delta:\",d)"
   ]
  },
  {
   "cell_type": "markdown",
   "metadata": {},
   "source": [
    "Parte 2"
   ]
  },
  {
   "cell_type": "code",
   "execution_count": null,
   "metadata": {
    "collapsed": true
   },
   "outputs": [],
   "source": []
  }
 ],
 "metadata": {
  "kernelspec": {
   "display_name": "Python 3",
   "language": "python",
   "name": "python3"
  },
  "language_info": {
   "codemirror_mode": {
    "name": "ipython",
    "version": 3
   },
   "file_extension": ".py",
   "mimetype": "text/x-python",
   "name": "python",
   "nbconvert_exporter": "python",
   "pygments_lexer": "ipython3",
   "version": "3.6.1"
  }
 },
 "nbformat": 4,
 "nbformat_minor": 2
}
